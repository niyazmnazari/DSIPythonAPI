{
 "cells": [
  {
   "cell_type": "code",
   "execution_count": 1,
   "metadata": {},
   "outputs": [],
   "source": [
    "import requests\n",
    "import yaml"
   ]
  },
  {
   "cell_type": "code",
   "execution_count": 2,
   "metadata": {},
   "outputs": [],
   "source": [
    "# load weather access token from yaml file\n",
    "with open('secrets.yml') as f:\n",
    "    secrets = yaml.safe_load(f)"
   ]
  },
  {
   "cell_type": "code",
   "execution_count": 3,
   "metadata": {},
   "outputs": [
    {
     "name": "stdout",
     "output_type": "stream",
     "text": [
      "{'coord': {'lon': -79.4163, 'lat': 43.7001}, 'weather': [{'id': 804, 'main': 'Clouds', 'description': 'overcast clouds', 'icon': '04d'}], 'base': 'stations', 'main': {'temp': 271.36, 'feels_like': 264.36, 'temp_min': 270.01, 'temp_max': 272.21, 'pressure': 1002, 'humidity': 69}, 'visibility': 10000, 'wind': {'speed': 11.83, 'deg': 240, 'gust': 16.98}, 'clouds': {'all': 100}, 'dt': 1708278094, 'sys': {'type': 2, 'id': 2043365, 'country': 'CA', 'sunrise': 1708258372, 'sunset': 1708296641}, 'timezone': -18000, 'id': 6167865, 'name': 'Toronto', 'cod': 200}\n",
      "Current weather in Toronto:\n",
      "Temperature: -2 C\n",
      "Weather Description: overcast clouds\n",
      "speed: 11.83\n",
      "deg: 240\n",
      "gust: 16.98\n"
     ]
    }
   ],
   "source": [
    "\n",
    "API_KEY = secrets['weather_key']\n",
    "BASE_URL = 'http://api.openweathermap.org/data/2.5/weather?'\n",
    "\n",
    "def Convert_Kelvin_Celsius (kdegree):\n",
    "    return int(round(kdegree - 273.15 , 0))\n",
    "\n",
    "def get_current_weather(city_name):\n",
    "    params = {\n",
    "        'q': city_name,\n",
    "        'appid': API_KEY,\n",
    "    }\n",
    "\n",
    "    try:\n",
    "        # Make a GET request to the OpenWeatherMap API\n",
    "        response = requests.get(BASE_URL, params=params)\n",
    "        response.raise_for_status()  # Check if the request was successful\n",
    "\n",
    "        # Parse the JSON response\n",
    "        weather_data = response.json()\n",
    "        print(weather_data)\n",
    "        # Extract relevant information\n",
    "        temperature = weather_data['main']['temp']\n",
    "        weather_description = weather_data['weather'][0]['description']\n",
    "\n",
    "        # Print the results\n",
    "        print(f\"Current weather in {city_name}:\")\n",
    "        Celsius = Convert_Kelvin_Celsius(temperature)\n",
    "        print(f\"Temperature: {Celsius} C\")\n",
    "        print(f\"Weather Description: {weather_description}\")\n",
    "\n",
    "        #Optional : Loop in Wind dictionary \n",
    "        for key,value in weather_data['wind'].items():\n",
    "            print(f\"{key}: {value}\")\n",
    "        \n",
    "    except requests.exceptions.RequestException as e:\n",
    "        print(f\"Error: {e}\")\n",
    "\n",
    "get_current_weather('Toronto')\n"
   ]
  }
 ],
 "metadata": {
  "kernelspec": {
   "display_name": "base",
   "language": "python",
   "name": "python3"
  },
  "language_info": {
   "codemirror_mode": {
    "name": "ipython",
    "version": 3
   },
   "file_extension": ".py",
   "mimetype": "text/x-python",
   "name": "python",
   "nbconvert_exporter": "python",
   "pygments_lexer": "ipython3",
   "version": "3.11.5"
  }
 },
 "nbformat": 4,
 "nbformat_minor": 2
}
