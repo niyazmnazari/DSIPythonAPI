{
 "cells": [
  {
   "cell_type": "code",
   "execution_count": 23,
   "metadata": {},
   "outputs": [],
   "source": [
    "import requests\n",
    "import yaml"
   ]
  },
  {
   "cell_type": "code",
   "execution_count": 24,
   "metadata": {},
   "outputs": [],
   "source": [
    "with open('secrets.yml') as f:\n",
    "    secrets = yaml.safe_load(f)"
   ]
  },
  {
   "cell_type": "code",
   "execution_count": 25,
   "metadata": {},
   "outputs": [],
   "source": [
    "CLIENT_ID = secrets['spotify_client_id']\n",
    "CLIENT_SECRET = secrets['spotify_client_secret']\n",
    "BASE_URL = 'https://api.spotify.com/v1/'\n",
    "AUTH_URL = 'https://accounts.spotify.com/api/token'\n",
    "\n",
    "auth_response = requests.post(AUTH_URL, {\n",
    "    'grant_type': 'client_credentials',\n",
    "    'client_id': CLIENT_ID,\n",
    "    'client_secret': CLIENT_SECRET,\n",
    "})\n",
    "\n",
    "auth_response_data = auth_response.json()\n",
    "\n",
    "# save the access token\n",
    "access_token = auth_response_data['access_token']\n",
    "\n",
    "headers = {'Authorization': 'Bearer {token}'.format(token=access_token)}\n",
    "\n",
    "\n",
    "# A sample TrackID \n",
    "track_id = '6y0igZArWVi6Iz0rj35c1Y'\n",
    "# actual GET request with proper header\n",
    "r = requests.get(BASE_URL + 'audio-features/' + track_id, headers=headers)"
   ]
  },
  {
   "cell_type": "code",
   "execution_count": 26,
   "metadata": {},
   "outputs": [
    {
     "data": {
      "text/plain": [
       "{'danceability': 0.54,\n",
       " 'energy': 0.59,\n",
       " 'key': 0,\n",
       " 'loudness': -4.359,\n",
       " 'mode': 1,\n",
       " 'speechiness': 0.0528,\n",
       " 'acousticness': 0.446,\n",
       " 'instrumentalness': 0,\n",
       " 'liveness': 0.14,\n",
       " 'valence': 0.267,\n",
       " 'tempo': 119.878,\n",
       " 'type': 'audio_features',\n",
       " 'id': '6y0igZArWVi6Iz0rj35c1Y',\n",
       " 'uri': 'spotify:track:6y0igZArWVi6Iz0rj35c1Y',\n",
       " 'track_href': 'https://api.spotify.com/v1/tracks/6y0igZArWVi6Iz0rj35c1Y',\n",
       " 'analysis_url': 'https://api.spotify.com/v1/audio-analysis/6y0igZArWVi6Iz0rj35c1Y',\n",
       " 'duration_ms': 234910,\n",
       " 'time_signature': 4}"
      ]
     },
     "execution_count": 26,
     "metadata": {},
     "output_type": "execute_result"
    }
   ],
   "source": [
    "r = r.json()\n",
    "r"
   ]
  }
 ],
 "metadata": {
  "kernelspec": {
   "display_name": "base",
   "language": "python",
   "name": "python3"
  },
  "language_info": {
   "codemirror_mode": {
    "name": "ipython",
    "version": 3
   },
   "file_extension": ".py",
   "mimetype": "text/x-python",
   "name": "python",
   "nbconvert_exporter": "python",
   "pygments_lexer": "ipython3",
   "version": "3.11.5"
  }
 },
 "nbformat": 4,
 "nbformat_minor": 2
}
